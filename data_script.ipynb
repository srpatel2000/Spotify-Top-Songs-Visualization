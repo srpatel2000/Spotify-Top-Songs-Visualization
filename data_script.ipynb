{
 "metadata": {
  "language_info": {
   "codemirror_mode": {
    "name": "ipython",
    "version": 3
   },
   "file_extension": ".py",
   "mimetype": "text/x-python",
   "name": "python",
   "nbconvert_exporter": "python",
   "pygments_lexer": "ipython3",
   "version": "3.8.5-final"
  },
  "orig_nbformat": 2,
  "kernelspec": {
   "name": "python385jvsc74a57bd05ca8f3636e49abb486d779bc35dfbb60bf9d4fea83ae65cd2fa3419e5e6848f4",
   "display_name": "Python 3.8.5 64-bit ('base': conda)"
  },
  "metadata": {
   "interpreter": {
    "hash": "5ca8f3636e49abb486d779bc35dfbb60bf9d4fea83ae65cd2fa3419e5e6848f4"
   }
  }
 },
 "nbformat": 4,
 "nbformat_minor": 2,
 "cells": [
  {
   "cell_type": "code",
   "execution_count": 1,
   "metadata": {},
   "outputs": [],
   "source": [
    "import json\n",
    "import pandas as pd\n",
    "import spotipy\n",
    "from spotipy.oauth2 import SpotifyClientCredentials \n"
   ]
  },
  {
   "cell_type": "code",
   "execution_count": 2,
   "metadata": {},
   "outputs": [],
   "source": [
    "#Initialize the client's ID and secret\n",
    "cid =\"89f3dc51e32147269a3c2e9a99bd7f87\" \n",
    "secret = \"647438b4afa04cb6822b5e3cb50d315a\"\n"
   ]
  },
  {
   "cell_type": "code",
   "execution_count": 3,
   "metadata": {},
   "outputs": [],
   "source": [
    "#Setting up the authorization with the API\n",
    "client_credentials_manager = SpotifyClientCredentials(client_id=cid, client_secret=secret)\n",
    "sp = spotipy.Spotify(client_credentials_manager=client_credentials_manager)"
   ]
  },
  {
   "cell_type": "code",
   "execution_count": 4,
   "metadata": {},
   "outputs": [],
   "source": [
    "#Use the Playlist API to get the tracks from the playlists\n",
    "def get_playlist_tracks(user_id, playlist_id):\n",
    "    '''\n",
    "    Get the contents in the playlist that includes the track name, track ID, and the artist's name and ID\n",
    "    '''\n",
    "    \n",
    "    tracks = sp.user_playlist_tracks(user = user_id, playlist_id = playlist_id, fields='items.track.name,items.track.id,items.track.artists.name,items.track.artists.id,next')\n",
    "    songs = tracks['items']\n",
    "\n",
    "    while tracks['next']:\n",
    "        tracks = sp.next(tracks)\n",
    "        songs.extend(tracks['items'])\n",
    "\n",
    "    return songs"
   ]
  },
  {
   "cell_type": "code",
   "execution_count": 5,
   "metadata": {
    "tags": []
   },
   "outputs": [],
   "source": [
    "#Get the top tracks from 2000-2019\n",
    "top_2000 = get_playlist_tracks('spotify', '37i9dQZF1DWUZv12GM5cFk')\n",
    "\n",
    "top_2001 = get_playlist_tracks('spotify', '37i9dQZF1DX9Ol4tZWPH6V')\n",
    "\n",
    "top_2002 = get_playlist_tracks('spotify', '37i9dQZF1DX0P7PzzKwEKl')\n",
    "\n",
    "top_2003 = get_playlist_tracks('spotify', '37i9dQZF1DXaW8fzPh9b08')\n",
    "\n",
    "top_2004 = get_playlist_tracks('spotify', '37i9dQZF1DWTWdbR13PQYH')\n",
    "\n",
    "top_2005 = get_playlist_tracks('spotify', '37i9dQZF1DWWzQTBs5BHX9')\n",
    "\n",
    "top_2006 = get_playlist_tracks('spotify', '37i9dQZF1DX1vSJnMeoy3V')\n",
    "\n",
    "top_2007 = get_playlist_tracks('spotify', '37i9dQZF1DX3j9EYdzv2N9')\n",
    "\n",
    "top_2008 = get_playlist_tracks('spotify', '37i9dQZF1DWYuGZUE4XQXm')\n",
    "\n",
    "top_2009 = get_playlist_tracks('spotify', '37i9dQZF1DX4UkKv8ED8jp')\n",
    "\n",
    "top_2010 = get_playlist_tracks('spotify', '37i9dQZF1DXc6IFF23C9jj')\n",
    "\n",
    "top_2011 = get_playlist_tracks('spotify', '37i9dQZF1DXcagnSNtrGuJ')\n",
    "\n",
    "top_2012 = get_playlist_tracks('spotify', '37i9dQZF1DX0yEZaMOXna3')\n",
    "\n",
    "top_2013 = get_playlist_tracks('spotify', '37i9dQZF1DX3Sp0P28SIer')\n",
    "\n",
    "top_2014 = get_playlist_tracks('spotify', '37i9dQZF1DX0h0QnLkMBl4')\n",
    "\n",
    "top_2015 = get_playlist_tracks('spotify', '37i9dQZF1DX9ukdrXQLJGZ')\n",
    "\n",
    "top_2016 = get_playlist_tracks('spotify', '37i9dQZF1DX8XZ6AUo9R4R')\n",
    "\n",
    "top_2017 = get_playlist_tracks('spotify', '37i9dQZF1DWTE7dVUebpUW')\n",
    "\n",
    "top_2018 = get_playlist_tracks('spotify', '37i9dQZF1DXe2bobNYDtW8')\n",
    "\n",
    "top_2019 = get_playlist_tracks('spotify', '37i9dQZF1DWVRSukIED0e9')\n",
    "\n",
    "tops = [top_2000, top_2001, top_2002, top_2003, top_2004, top_2005, top_2006, top_2007, top_2008, top_2009, top_2010, top_2011, top_2012, top_2013, top_2014, top_2015, top_2016, top_2017, top_2018, top_2019]\n",
    "\n"
   ]
  },
  {
   "cell_type": "code",
   "execution_count": 6,
   "metadata": {},
   "outputs": [],
   "source": [
    "#Label the year for the song\n",
    "def add_year(songs, year):\n",
    "    for song in songs:\n",
    "        song['year'] = year\n",
    "\n",
    "year = 2000\n",
    "for top_year in tops:\n",
    "    add_year(top_year, year)\n",
    "    year += 1\n",
    "    if year > 2019:\n",
    "        break"
   ]
  },
  {
   "cell_type": "code",
   "execution_count": 7,
   "metadata": {},
   "outputs": [
    {
     "output_type": "execute_result",
     "data": {
      "text/plain": [
       "[{'id': '7jVv8c5Fj3E9VhNjxT4snq', 'name': 'Lil Nas X'},\n",
       " {'id': '60rpJ9SgigSd16DOAG7GSa', 'name': 'Billy Ray Cyrus'}]"
      ]
     },
     "metadata": {},
     "execution_count": 7
    }
   ],
   "source": [
    "top_2019[0]['track']['artists']"
   ]
  },
  {
   "cell_type": "code",
   "execution_count": 8,
   "metadata": {},
   "outputs": [
    {
     "output_type": "display_data",
     "data": {
      "text/plain": "                 songs_id              songs_name       artist_name  \\\n0  6naxalmIoLFWR0siv8dnQQ  Oops!...I Did It Again  [Britney Spears]   \n1  2m1hi0nfMR9vdGC8UcrnwU    All The Small Things       [blink-182]   \n2  3y4LxiYMgDl4RethdzpmNe                 Breathe      [Faith Hill]   \n3  0v1XpBHnsbkCn7iJ9Ucr1l            It's My Life        [Bon Jovi]   \n4  4r8lRYnoOGdEi6YyI5OC1o             Bye Bye Bye          [*NSYNC]   \n\n                  artist_id  year  \n0  [26dSoYclwsYLMAKD3tpOr4]  2000  \n1  [6FBDaR13swtiWwGhX1WQsP]  2000  \n2  [25NQNriVT2YbSW80ILRWJa]  2000  \n3  [58lV9VcRSjABbAbfWS6skp]  2000  \n4  [6Ff53KvcvAj5U7Z1vojB5o]  2000  ",
      "text/html": "<div>\n<style scoped>\n    .dataframe tbody tr th:only-of-type {\n        vertical-align: middle;\n    }\n\n    .dataframe tbody tr th {\n        vertical-align: top;\n    }\n\n    .dataframe thead th {\n        text-align: right;\n    }\n</style>\n<table border=\"1\" class=\"dataframe\">\n  <thead>\n    <tr style=\"text-align: right;\">\n      <th></th>\n      <th>songs_id</th>\n      <th>songs_name</th>\n      <th>artist_name</th>\n      <th>artist_id</th>\n      <th>year</th>\n    </tr>\n  </thead>\n  <tbody>\n    <tr>\n      <th>0</th>\n      <td>6naxalmIoLFWR0siv8dnQQ</td>\n      <td>Oops!...I Did It Again</td>\n      <td>[Britney Spears]</td>\n      <td>[26dSoYclwsYLMAKD3tpOr4]</td>\n      <td>2000</td>\n    </tr>\n    <tr>\n      <th>1</th>\n      <td>2m1hi0nfMR9vdGC8UcrnwU</td>\n      <td>All The Small Things</td>\n      <td>[blink-182]</td>\n      <td>[6FBDaR13swtiWwGhX1WQsP]</td>\n      <td>2000</td>\n    </tr>\n    <tr>\n      <th>2</th>\n      <td>3y4LxiYMgDl4RethdzpmNe</td>\n      <td>Breathe</td>\n      <td>[Faith Hill]</td>\n      <td>[25NQNriVT2YbSW80ILRWJa]</td>\n      <td>2000</td>\n    </tr>\n    <tr>\n      <th>3</th>\n      <td>0v1XpBHnsbkCn7iJ9Ucr1l</td>\n      <td>It's My Life</td>\n      <td>[Bon Jovi]</td>\n      <td>[58lV9VcRSjABbAbfWS6skp]</td>\n      <td>2000</td>\n    </tr>\n    <tr>\n      <th>4</th>\n      <td>4r8lRYnoOGdEi6YyI5OC1o</td>\n      <td>Bye Bye Bye</td>\n      <td>[*NSYNC]</td>\n      <td>[6Ff53KvcvAj5U7Z1vojB5o]</td>\n      <td>2000</td>\n    </tr>\n  </tbody>\n</table>\n</div>"
     },
     "metadata": {}
    }
   ],
   "source": [
    "#Create dataframe of all the tracks\n",
    "\n",
    "full_song_ids = []\n",
    "full_song_names = []\n",
    "full_artists = []\n",
    "full_artists_ids = []\n",
    "song_years = []\n",
    "\n",
    "for year in tops:\n",
    "    for tracks in year:\n",
    "        \n",
    "        # list of song ids \n",
    "        full_song_ids.append(tracks['track']['id'])\n",
    "\n",
    "        # list of song names  \n",
    "        full_song_names.append(tracks['track']['name'])\n",
    "\n",
    "        # list of artists and artists ID\n",
    "        artists = []\n",
    "        artists_id = []\n",
    "        for artist in tracks['track']['artists']:\n",
    "            artists.append(artist['name'])\n",
    "            artists_id.append(artist['id'])\n",
    "        full_artists.append(artists)\n",
    "        full_artists_ids.append(artists_id)\n",
    "        \n",
    "        # list of years\n",
    "        song_years.append(tracks['year'])\n",
    "\n",
    "songs_df = pd.DataFrame(data = list(zip(full_song_ids, full_song_names, full_artists, full_artists_ids, song_years)), columns = ['songs_id', 'songs_name', 'artist_name', 'artist_id', 'year'])\n",
    "display(songs_df.head())"
   ]
  },
  {
   "cell_type": "code",
   "execution_count": 9,
   "metadata": {},
   "outputs": [],
   "source": [
    "#Use the Tracks API to get the audio features for all the tracks\n",
    "def audio_feats(songs_df):\n",
    "    features = sp.audio_features(songs_df['songs_id'])[0]\n",
    "    songs_df['danceability'] = features['danceability']\n",
    "    songs_df['energy'] = features['energy']\n",
    "    songs_df['key'] = features['key']\n",
    "    songs_df['loudness'] = features['loudness']\n",
    "    songs_df['mode'] = features['mode']\n",
    "    songs_df['speechiness'] = features['speechiness']\n",
    "    songs_df['acousticness'] = features['acousticness']\n",
    "    songs_df['instrumentalness'] = features['instrumentalness']\n",
    "    songs_df['liveness'] = features['liveness']\n",
    "    songs_df['valence'] = features['valence']\n",
    "    songs_df['tempo'] = features['tempo']\n",
    "    songs_df['duration'] = features['duration_ms']\n",
    "    songs_df['time_signature'] = features['time_signature']\n",
    "    return songs_df"
   ]
  },
  {
   "cell_type": "code",
   "execution_count": 10,
   "metadata": {},
   "outputs": [
    {
     "output_type": "execute_result",
     "data": {
      "text/plain": [
       "                 songs_id              songs_name       artist_name  \\\n",
       "0  6naxalmIoLFWR0siv8dnQQ  Oops!...I Did It Again  [Britney Spears]   \n",
       "1  2m1hi0nfMR9vdGC8UcrnwU    All The Small Things       [blink-182]   \n",
       "2  3y4LxiYMgDl4RethdzpmNe                 Breathe      [Faith Hill]   \n",
       "3  0v1XpBHnsbkCn7iJ9Ucr1l            It's My Life        [Bon Jovi]   \n",
       "4  4r8lRYnoOGdEi6YyI5OC1o             Bye Bye Bye          [*NSYNC]   \n",
       "\n",
       "                  artist_id  year  danceability  energy  key  loudness  mode  \\\n",
       "0  [26dSoYclwsYLMAKD3tpOr4]  2000         0.751   0.834    1    -5.444     0   \n",
       "1  [6FBDaR13swtiWwGhX1WQsP]  2000         0.434   0.897    0    -4.918     1   \n",
       "2  [25NQNriVT2YbSW80ILRWJa]  2000         0.529   0.496    7    -9.007     1   \n",
       "3  [58lV9VcRSjABbAbfWS6skp]  2000         0.551   0.913    0    -4.063     0   \n",
       "4  [6Ff53KvcvAj5U7Z1vojB5o]  2000         0.614   0.928    8    -4.806     0   \n",
       "\n",
       "   speechiness  acousticness  instrumentalness  liveness  valence    tempo  \\\n",
       "0       0.0437        0.3000          0.000018    0.3550    0.894   95.053   \n",
       "1       0.0488        0.0103          0.000000    0.6120    0.684  148.726   \n",
       "2       0.0290        0.1730          0.000000    0.2510    0.278  136.859   \n",
       "3       0.0466        0.0263          0.000013    0.3470    0.544  119.992   \n",
       "4       0.0516        0.0408          0.001040    0.0845    0.879  172.656   \n",
       "\n",
       "   duration  time_signature  \n",
       "0    211160               4  \n",
       "1    167067               4  \n",
       "2    250547               4  \n",
       "3    224493               4  \n",
       "4    200560               4  "
      ],
      "text/html": "<div>\n<style scoped>\n    .dataframe tbody tr th:only-of-type {\n        vertical-align: middle;\n    }\n\n    .dataframe tbody tr th {\n        vertical-align: top;\n    }\n\n    .dataframe thead th {\n        text-align: right;\n    }\n</style>\n<table border=\"1\" class=\"dataframe\">\n  <thead>\n    <tr style=\"text-align: right;\">\n      <th></th>\n      <th>songs_id</th>\n      <th>songs_name</th>\n      <th>artist_name</th>\n      <th>artist_id</th>\n      <th>year</th>\n      <th>danceability</th>\n      <th>energy</th>\n      <th>key</th>\n      <th>loudness</th>\n      <th>mode</th>\n      <th>speechiness</th>\n      <th>acousticness</th>\n      <th>instrumentalness</th>\n      <th>liveness</th>\n      <th>valence</th>\n      <th>tempo</th>\n      <th>duration</th>\n      <th>time_signature</th>\n    </tr>\n  </thead>\n  <tbody>\n    <tr>\n      <th>0</th>\n      <td>6naxalmIoLFWR0siv8dnQQ</td>\n      <td>Oops!...I Did It Again</td>\n      <td>[Britney Spears]</td>\n      <td>[26dSoYclwsYLMAKD3tpOr4]</td>\n      <td>2000</td>\n      <td>0.751</td>\n      <td>0.834</td>\n      <td>1</td>\n      <td>-5.444</td>\n      <td>0</td>\n      <td>0.0437</td>\n      <td>0.3000</td>\n      <td>0.000018</td>\n      <td>0.3550</td>\n      <td>0.894</td>\n      <td>95.053</td>\n      <td>211160</td>\n      <td>4</td>\n    </tr>\n    <tr>\n      <th>1</th>\n      <td>2m1hi0nfMR9vdGC8UcrnwU</td>\n      <td>All The Small Things</td>\n      <td>[blink-182]</td>\n      <td>[6FBDaR13swtiWwGhX1WQsP]</td>\n      <td>2000</td>\n      <td>0.434</td>\n      <td>0.897</td>\n      <td>0</td>\n      <td>-4.918</td>\n      <td>1</td>\n      <td>0.0488</td>\n      <td>0.0103</td>\n      <td>0.000000</td>\n      <td>0.6120</td>\n      <td>0.684</td>\n      <td>148.726</td>\n      <td>167067</td>\n      <td>4</td>\n    </tr>\n    <tr>\n      <th>2</th>\n      <td>3y4LxiYMgDl4RethdzpmNe</td>\n      <td>Breathe</td>\n      <td>[Faith Hill]</td>\n      <td>[25NQNriVT2YbSW80ILRWJa]</td>\n      <td>2000</td>\n      <td>0.529</td>\n      <td>0.496</td>\n      <td>7</td>\n      <td>-9.007</td>\n      <td>1</td>\n      <td>0.0290</td>\n      <td>0.1730</td>\n      <td>0.000000</td>\n      <td>0.2510</td>\n      <td>0.278</td>\n      <td>136.859</td>\n      <td>250547</td>\n      <td>4</td>\n    </tr>\n    <tr>\n      <th>3</th>\n      <td>0v1XpBHnsbkCn7iJ9Ucr1l</td>\n      <td>It's My Life</td>\n      <td>[Bon Jovi]</td>\n      <td>[58lV9VcRSjABbAbfWS6skp]</td>\n      <td>2000</td>\n      <td>0.551</td>\n      <td>0.913</td>\n      <td>0</td>\n      <td>-4.063</td>\n      <td>0</td>\n      <td>0.0466</td>\n      <td>0.0263</td>\n      <td>0.000013</td>\n      <td>0.3470</td>\n      <td>0.544</td>\n      <td>119.992</td>\n      <td>224493</td>\n      <td>4</td>\n    </tr>\n    <tr>\n      <th>4</th>\n      <td>4r8lRYnoOGdEi6YyI5OC1o</td>\n      <td>Bye Bye Bye</td>\n      <td>[*NSYNC]</td>\n      <td>[6Ff53KvcvAj5U7Z1vojB5o]</td>\n      <td>2000</td>\n      <td>0.614</td>\n      <td>0.928</td>\n      <td>8</td>\n      <td>-4.806</td>\n      <td>0</td>\n      <td>0.0516</td>\n      <td>0.0408</td>\n      <td>0.001040</td>\n      <td>0.0845</td>\n      <td>0.879</td>\n      <td>172.656</td>\n      <td>200560</td>\n      <td>4</td>\n    </tr>\n  </tbody>\n</table>\n</div>"
     },
     "metadata": {},
     "execution_count": 10
    }
   ],
   "source": [
    "#Add the track's audio features for all songs\n",
    "songs_df = songs_df.apply(audio_feats, axis=1)\n",
    "\n",
    "songs_df.head()"
   ]
  },
  {
   "cell_type": "code",
   "execution_count": 14,
   "metadata": {},
   "outputs": [
    {
     "output_type": "execute_result",
     "data": {
      "text/plain": [
       "0                         [dance pop, pop, post-teen pop]\n",
       "1                        [pop punk, punk, socal pop punk]\n",
       "2       [contemporary country, country, country dawn, ...\n",
       "3                           [glam metal, hard rock, rock]\n",
       "4               [boy band, dance pop, pop, post-teen pop]\n",
       "                              ...                        \n",
       "2024                                    [electropop, pop]\n",
       "2025                     [grime, uk hip hop, ukg revival]\n",
       "2026                    [melodic rap, pop rap, rap, trap]\n",
       "2027    [afro dancehall, afroswing, uk dancehall, uk h...\n",
       "2028                          [dfw rap, melodic rap, rap]\n",
       "Name: artist_id, Length: 2029, dtype: object"
      ]
     },
     "metadata": {},
     "execution_count": 14
    }
   ],
   "source": [
    "#Use the Artists API to get each artist's musical genres\n",
    "def get_genres(artist_ids):\n",
    "    genres = sp.artists(artist_ids)['artists'][0]['genres']\n",
    "    return genres\n",
    "artist_genres = songs_df['artist_id'].apply(get_genres)\n",
    "artist_genres"
   ]
  },
  {
   "cell_type": "code",
   "execution_count": 15,
   "metadata": {},
   "outputs": [
    {
     "output_type": "execute_result",
     "data": {
      "text/plain": [
       "                 songs_id              songs_name       artist_name  \\\n",
       "0  6naxalmIoLFWR0siv8dnQQ  Oops!...I Did It Again  [Britney Spears]   \n",
       "1  2m1hi0nfMR9vdGC8UcrnwU    All The Small Things       [blink-182]   \n",
       "2  3y4LxiYMgDl4RethdzpmNe                 Breathe      [Faith Hill]   \n",
       "3  0v1XpBHnsbkCn7iJ9Ucr1l            It's My Life        [Bon Jovi]   \n",
       "4  4r8lRYnoOGdEi6YyI5OC1o             Bye Bye Bye          [*NSYNC]   \n",
       "\n",
       "                  artist_id  year  danceability  energy  key  loudness  mode  \\\n",
       "0  [26dSoYclwsYLMAKD3tpOr4]  2000         0.751   0.834    1    -5.444     0   \n",
       "1  [6FBDaR13swtiWwGhX1WQsP]  2000         0.434   0.897    0    -4.918     1   \n",
       "2  [25NQNriVT2YbSW80ILRWJa]  2000         0.529   0.496    7    -9.007     1   \n",
       "3  [58lV9VcRSjABbAbfWS6skp]  2000         0.551   0.913    0    -4.063     0   \n",
       "4  [6Ff53KvcvAj5U7Z1vojB5o]  2000         0.614   0.928    8    -4.806     0   \n",
       "\n",
       "   speechiness  acousticness  instrumentalness  liveness  valence    tempo  \\\n",
       "0       0.0437        0.3000          0.000018    0.3550    0.894   95.053   \n",
       "1       0.0488        0.0103          0.000000    0.6120    0.684  148.726   \n",
       "2       0.0290        0.1730          0.000000    0.2510    0.278  136.859   \n",
       "3       0.0466        0.0263          0.000013    0.3470    0.544  119.992   \n",
       "4       0.0516        0.0408          0.001040    0.0845    0.879  172.656   \n",
       "\n",
       "   duration  time_signature                                       artist_genre  \n",
       "0    211160               4                    [dance pop, pop, post-teen pop]  \n",
       "1    167067               4                   [pop punk, punk, socal pop punk]  \n",
       "2    250547               4  [contemporary country, country, country dawn, ...  \n",
       "3    224493               4                      [glam metal, hard rock, rock]  \n",
       "4    200560               4          [boy band, dance pop, pop, post-teen pop]  "
      ],
      "text/html": "<div>\n<style scoped>\n    .dataframe tbody tr th:only-of-type {\n        vertical-align: middle;\n    }\n\n    .dataframe tbody tr th {\n        vertical-align: top;\n    }\n\n    .dataframe thead th {\n        text-align: right;\n    }\n</style>\n<table border=\"1\" class=\"dataframe\">\n  <thead>\n    <tr style=\"text-align: right;\">\n      <th></th>\n      <th>songs_id</th>\n      <th>songs_name</th>\n      <th>artist_name</th>\n      <th>artist_id</th>\n      <th>year</th>\n      <th>danceability</th>\n      <th>energy</th>\n      <th>key</th>\n      <th>loudness</th>\n      <th>mode</th>\n      <th>speechiness</th>\n      <th>acousticness</th>\n      <th>instrumentalness</th>\n      <th>liveness</th>\n      <th>valence</th>\n      <th>tempo</th>\n      <th>duration</th>\n      <th>time_signature</th>\n      <th>artist_genre</th>\n    </tr>\n  </thead>\n  <tbody>\n    <tr>\n      <th>0</th>\n      <td>6naxalmIoLFWR0siv8dnQQ</td>\n      <td>Oops!...I Did It Again</td>\n      <td>[Britney Spears]</td>\n      <td>[26dSoYclwsYLMAKD3tpOr4]</td>\n      <td>2000</td>\n      <td>0.751</td>\n      <td>0.834</td>\n      <td>1</td>\n      <td>-5.444</td>\n      <td>0</td>\n      <td>0.0437</td>\n      <td>0.3000</td>\n      <td>0.000018</td>\n      <td>0.3550</td>\n      <td>0.894</td>\n      <td>95.053</td>\n      <td>211160</td>\n      <td>4</td>\n      <td>[dance pop, pop, post-teen pop]</td>\n    </tr>\n    <tr>\n      <th>1</th>\n      <td>2m1hi0nfMR9vdGC8UcrnwU</td>\n      <td>All The Small Things</td>\n      <td>[blink-182]</td>\n      <td>[6FBDaR13swtiWwGhX1WQsP]</td>\n      <td>2000</td>\n      <td>0.434</td>\n      <td>0.897</td>\n      <td>0</td>\n      <td>-4.918</td>\n      <td>1</td>\n      <td>0.0488</td>\n      <td>0.0103</td>\n      <td>0.000000</td>\n      <td>0.6120</td>\n      <td>0.684</td>\n      <td>148.726</td>\n      <td>167067</td>\n      <td>4</td>\n      <td>[pop punk, punk, socal pop punk]</td>\n    </tr>\n    <tr>\n      <th>2</th>\n      <td>3y4LxiYMgDl4RethdzpmNe</td>\n      <td>Breathe</td>\n      <td>[Faith Hill]</td>\n      <td>[25NQNriVT2YbSW80ILRWJa]</td>\n      <td>2000</td>\n      <td>0.529</td>\n      <td>0.496</td>\n      <td>7</td>\n      <td>-9.007</td>\n      <td>1</td>\n      <td>0.0290</td>\n      <td>0.1730</td>\n      <td>0.000000</td>\n      <td>0.2510</td>\n      <td>0.278</td>\n      <td>136.859</td>\n      <td>250547</td>\n      <td>4</td>\n      <td>[contemporary country, country, country dawn, ...</td>\n    </tr>\n    <tr>\n      <th>3</th>\n      <td>0v1XpBHnsbkCn7iJ9Ucr1l</td>\n      <td>It's My Life</td>\n      <td>[Bon Jovi]</td>\n      <td>[58lV9VcRSjABbAbfWS6skp]</td>\n      <td>2000</td>\n      <td>0.551</td>\n      <td>0.913</td>\n      <td>0</td>\n      <td>-4.063</td>\n      <td>0</td>\n      <td>0.0466</td>\n      <td>0.0263</td>\n      <td>0.000013</td>\n      <td>0.3470</td>\n      <td>0.544</td>\n      <td>119.992</td>\n      <td>224493</td>\n      <td>4</td>\n      <td>[glam metal, hard rock, rock]</td>\n    </tr>\n    <tr>\n      <th>4</th>\n      <td>4r8lRYnoOGdEi6YyI5OC1o</td>\n      <td>Bye Bye Bye</td>\n      <td>[*NSYNC]</td>\n      <td>[6Ff53KvcvAj5U7Z1vojB5o]</td>\n      <td>2000</td>\n      <td>0.614</td>\n      <td>0.928</td>\n      <td>8</td>\n      <td>-4.806</td>\n      <td>0</td>\n      <td>0.0516</td>\n      <td>0.0408</td>\n      <td>0.001040</td>\n      <td>0.0845</td>\n      <td>0.879</td>\n      <td>172.656</td>\n      <td>200560</td>\n      <td>4</td>\n      <td>[boy band, dance pop, pop, post-teen pop]</td>\n    </tr>\n  </tbody>\n</table>\n</div>"
     },
     "metadata": {},
     "execution_count": 15
    }
   ],
   "source": [
    "songs_df['artist_genre'] = artist_genres\n",
    "songs_df.head()"
   ]
  },
  {
   "cell_type": "code",
   "execution_count": null,
   "metadata": {},
   "outputs": [],
   "source": [
    "#Output DF to a CSV\n",
    "#songs_df.to_csv('top_songs.csv')\n",
    "\n",
    "#Read the CSV\n",
    "#pd.read_csv('top_songs.csv')"
   ]
  },
  {
   "cell_type": "code",
   "execution_count": null,
   "metadata": {},
   "outputs": [],
   "source": []
  }
 ]
}