{
 "metadata": {
  "language_info": {
   "codemirror_mode": {
    "name": "ipython",
    "version": 3
   },
   "file_extension": ".py",
   "mimetype": "text/x-python",
   "name": "python",
   "nbconvert_exporter": "python",
   "pygments_lexer": "ipython3",
   "version": "3.8.5"
  },
  "orig_nbformat": 2,
  "kernelspec": {
   "name": "python385jvsc74a57bd05ca8f3636e49abb486d779bc35dfbb60bf9d4fea83ae65cd2fa3419e5e6848f4",
   "display_name": "Python 3.8.5 64-bit ('base': conda)"
  },
  "metadata": {
   "interpreter": {
    "hash": "5ca8f3636e49abb486d779bc35dfbb60bf9d4fea83ae65cd2fa3419e5e6848f4"
   }
  }
 },
 "nbformat": 4,
 "nbformat_minor": 2,
 "cells": [
  {
   "cell_type": "code",
   "execution_count": 2,
   "metadata": {},
   "outputs": [],
   "source": [
    "import pandas as pd"
   ]
  },
  {
   "cell_type": "code",
   "execution_count": 4,
   "metadata": {},
   "outputs": [
    {
     "output_type": "execute_result",
     "data": {
      "text/plain": [
       "   Unnamed: 0                songs_id              songs_name  \\\n",
       "0           0  6naxalmIoLFWR0siv8dnQQ  Oops!...I Did It Again   \n",
       "1           1  2m1hi0nfMR9vdGC8UcrnwU    All The Small Things   \n",
       "2           2  3y4LxiYMgDl4RethdzpmNe                 Breathe   \n",
       "3           3  0v1XpBHnsbkCn7iJ9Ucr1l            It's My Life   \n",
       "4           4  4r8lRYnoOGdEi6YyI5OC1o             Bye Bye Bye   \n",
       "\n",
       "          artist_name                   artist_id  year  danceability  energy  \\\n",
       "0  ['Britney Spears']  ['26dSoYclwsYLMAKD3tpOr4']  2000         0.751   0.834   \n",
       "1       ['blink-182']  ['6FBDaR13swtiWwGhX1WQsP']  2000         0.434   0.897   \n",
       "2      ['Faith Hill']  ['25NQNriVT2YbSW80ILRWJa']  2000         0.529   0.496   \n",
       "3        ['Bon Jovi']  ['58lV9VcRSjABbAbfWS6skp']  2000         0.551   0.913   \n",
       "4          ['*NSYNC']  ['6Ff53KvcvAj5U7Z1vojB5o']  2000         0.614   0.928   \n",
       "\n",
       "   key  loudness  mode  speechiness  acousticness  instrumentalness  liveness  \\\n",
       "0    1    -5.444     0       0.0437        0.3000          0.000018    0.3550   \n",
       "1    0    -4.918     1       0.0488        0.0103          0.000000    0.6120   \n",
       "2    7    -9.007     1       0.0290        0.1730          0.000000    0.2510   \n",
       "3    0    -4.063     0       0.0466        0.0263          0.000014    0.3470   \n",
       "4    8    -4.806     0       0.0516        0.0408          0.001040    0.0845   \n",
       "\n",
       "   valence    tempo  duration  time_signature  \\\n",
       "0    0.894   95.053    211160               4   \n",
       "1    0.684  148.726    167067               4   \n",
       "2    0.278  136.859    250547               4   \n",
       "3    0.544  119.992    224493               4   \n",
       "4    0.879  172.656    200560               4   \n",
       "\n",
       "                                        artist_genre  \n",
       "0              ['dance pop', 'pop', 'post-teen pop']  \n",
       "1             ['pop punk', 'punk', 'socal pop punk']  \n",
       "2  ['contemporary country', 'country', 'country d...  \n",
       "3                ['glam metal', 'hard rock', 'rock']  \n",
       "4  ['boy band', 'dance pop', 'pop', 'post-teen pop']  "
      ],
      "text/html": "<div>\n<style scoped>\n    .dataframe tbody tr th:only-of-type {\n        vertical-align: middle;\n    }\n\n    .dataframe tbody tr th {\n        vertical-align: top;\n    }\n\n    .dataframe thead th {\n        text-align: right;\n    }\n</style>\n<table border=\"1\" class=\"dataframe\">\n  <thead>\n    <tr style=\"text-align: right;\">\n      <th></th>\n      <th>Unnamed: 0</th>\n      <th>songs_id</th>\n      <th>songs_name</th>\n      <th>artist_name</th>\n      <th>artist_id</th>\n      <th>year</th>\n      <th>danceability</th>\n      <th>energy</th>\n      <th>key</th>\n      <th>loudness</th>\n      <th>mode</th>\n      <th>speechiness</th>\n      <th>acousticness</th>\n      <th>instrumentalness</th>\n      <th>liveness</th>\n      <th>valence</th>\n      <th>tempo</th>\n      <th>duration</th>\n      <th>time_signature</th>\n      <th>artist_genre</th>\n    </tr>\n  </thead>\n  <tbody>\n    <tr>\n      <th>0</th>\n      <td>0</td>\n      <td>6naxalmIoLFWR0siv8dnQQ</td>\n      <td>Oops!...I Did It Again</td>\n      <td>['Britney Spears']</td>\n      <td>['26dSoYclwsYLMAKD3tpOr4']</td>\n      <td>2000</td>\n      <td>0.751</td>\n      <td>0.834</td>\n      <td>1</td>\n      <td>-5.444</td>\n      <td>0</td>\n      <td>0.0437</td>\n      <td>0.3000</td>\n      <td>0.000018</td>\n      <td>0.3550</td>\n      <td>0.894</td>\n      <td>95.053</td>\n      <td>211160</td>\n      <td>4</td>\n      <td>['dance pop', 'pop', 'post-teen pop']</td>\n    </tr>\n    <tr>\n      <th>1</th>\n      <td>1</td>\n      <td>2m1hi0nfMR9vdGC8UcrnwU</td>\n      <td>All The Small Things</td>\n      <td>['blink-182']</td>\n      <td>['6FBDaR13swtiWwGhX1WQsP']</td>\n      <td>2000</td>\n      <td>0.434</td>\n      <td>0.897</td>\n      <td>0</td>\n      <td>-4.918</td>\n      <td>1</td>\n      <td>0.0488</td>\n      <td>0.0103</td>\n      <td>0.000000</td>\n      <td>0.6120</td>\n      <td>0.684</td>\n      <td>148.726</td>\n      <td>167067</td>\n      <td>4</td>\n      <td>['pop punk', 'punk', 'socal pop punk']</td>\n    </tr>\n    <tr>\n      <th>2</th>\n      <td>2</td>\n      <td>3y4LxiYMgDl4RethdzpmNe</td>\n      <td>Breathe</td>\n      <td>['Faith Hill']</td>\n      <td>['25NQNriVT2YbSW80ILRWJa']</td>\n      <td>2000</td>\n      <td>0.529</td>\n      <td>0.496</td>\n      <td>7</td>\n      <td>-9.007</td>\n      <td>1</td>\n      <td>0.0290</td>\n      <td>0.1730</td>\n      <td>0.000000</td>\n      <td>0.2510</td>\n      <td>0.278</td>\n      <td>136.859</td>\n      <td>250547</td>\n      <td>4</td>\n      <td>['contemporary country', 'country', 'country d...</td>\n    </tr>\n    <tr>\n      <th>3</th>\n      <td>3</td>\n      <td>0v1XpBHnsbkCn7iJ9Ucr1l</td>\n      <td>It's My Life</td>\n      <td>['Bon Jovi']</td>\n      <td>['58lV9VcRSjABbAbfWS6skp']</td>\n      <td>2000</td>\n      <td>0.551</td>\n      <td>0.913</td>\n      <td>0</td>\n      <td>-4.063</td>\n      <td>0</td>\n      <td>0.0466</td>\n      <td>0.0263</td>\n      <td>0.000014</td>\n      <td>0.3470</td>\n      <td>0.544</td>\n      <td>119.992</td>\n      <td>224493</td>\n      <td>4</td>\n      <td>['glam metal', 'hard rock', 'rock']</td>\n    </tr>\n    <tr>\n      <th>4</th>\n      <td>4</td>\n      <td>4r8lRYnoOGdEi6YyI5OC1o</td>\n      <td>Bye Bye Bye</td>\n      <td>['*NSYNC']</td>\n      <td>['6Ff53KvcvAj5U7Z1vojB5o']</td>\n      <td>2000</td>\n      <td>0.614</td>\n      <td>0.928</td>\n      <td>8</td>\n      <td>-4.806</td>\n      <td>0</td>\n      <td>0.0516</td>\n      <td>0.0408</td>\n      <td>0.001040</td>\n      <td>0.0845</td>\n      <td>0.879</td>\n      <td>172.656</td>\n      <td>200560</td>\n      <td>4</td>\n      <td>['boy band', 'dance pop', 'pop', 'post-teen pop']</td>\n    </tr>\n  </tbody>\n</table>\n</div>"
     },
     "metadata": {},
     "execution_count": 4
    }
   ],
   "source": [
    "top_songs = pd.read_csv(\"top_songs.csv\")\n",
    "top_songs.head()"
   ]
  },
  {
   "cell_type": "code",
   "execution_count": null,
   "metadata": {},
   "outputs": [],
   "source": []
  }
 ]
}